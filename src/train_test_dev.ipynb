{
 "cells": [
  {
   "cell_type": "markdown",
   "metadata": {},
   "source": [
    "# Division des corpus Europarl et Emea en sous-corpus d'apprentissage et de test"
   ]
  },
  {
   "cell_type": "code",
   "execution_count": 26,
   "metadata": {},
   "outputs": [],
   "source": [
    "from sklearn.model_selection import train_test_split\n",
    "\n",
    "# Load the data\n",
    "corpus_europarl_en = \"../data/Europarl_en_fr/Europarl.en\"\n",
    "corpus_europarl_fr = \"../data/Europarl_en_fr/Europarl.fr\"\n",
    "corpus_emea_en = \"../data/Emea_en_fr/EMEA.en\"\n",
    "corpus_emea_fr = \"../data/Emea_en_fr/EMEA.fr\"\n",
    "\n",
    "with open(corpus_europarl_en, 'r') as file:\n",
    "    europarl_en = file.readlines()\n",
    "\n",
    "with open(corpus_europarl_fr, 'r') as file:\n",
    "    europarl_fr = file.readlines()\n",
    "\n",
    "with open(corpus_emea_en, 'r') as file:\n",
    "    emea_en = file.readlines()\n",
    "\n",
    "with open(corpus_emea_fr, 'r') as file:\n",
    "    emea_fr = file.readlines()\n"
   ]
  },
  {
   "cell_type": "markdown",
   "metadata": {},
   "source": [
    "### Extraire les corpus d'apprentissage (TRAIN)\n",
    "\n",
    "1. Europarl\n",
    "\n",
    "Sélectionner aléatoirement 100 000 phrases pour l'apprentissage :"
   ]
  },
  {
   "cell_type": "code",
   "execution_count": 27,
   "metadata": {},
   "outputs": [],
   "source": [
    "# Fusionner les paires de phrases Europarl\n",
    "europarl_pairs = list(zip(europarl_en, europarl_fr))\n",
    "\n",
    "# Extraire 100 000 paires pour l'apprentissage\n",
    "europarl_train_pairs, europarl_remaining_pairs = train_test_split(europarl_pairs, train_size=100000, random_state=42)\n",
    "\n",
    "# Séparer les paires en listes individuelles\n",
    "europarl_train_en, europarl_train_fr = zip(*europarl_train_pairs)\n"
   ]
  },
  {
   "cell_type": "markdown",
   "metadata": {},
   "source": [
    "2. Emea\n",
    "\n",
    "Sélectionner aléatoirement 10 000 phrases pour l'apprentissage :"
   ]
  },
  {
   "cell_type": "code",
   "execution_count": 28,
   "metadata": {},
   "outputs": [],
   "source": [
    "# Fusionner les paires de phrases Emea\n",
    "emea_pairs = list(zip(emea_en, emea_fr))\n",
    "\n",
    "# Extraire 10 000 paires pour l'apprentissage\n",
    "emea_train_pairs, emea_remaining_pairs = train_test_split(emea_pairs, train_size=10000, random_state=42)\n",
    "\n",
    "# Séparer les paires en listes individuelles\n",
    "emea_train_en, emea_train_fr = zip(*emea_train_pairs)\n"
   ]
  },
  {
   "cell_type": "markdown",
   "metadata": {},
   "source": [
    "### Extraire les corpus de développement (DEV)\n",
    "\n",
    "1. Europarl\n",
    "\n",
    "Sélectionner aléatoirement 3 750 phrases pour le développement à partir des phrases restantes :"
   ]
  },
  {
   "cell_type": "code",
   "execution_count": 29,
   "metadata": {},
   "outputs": [],
   "source": [
    "# Extraire 3750 paires pour le développement à partir des phrases restantes d'Europarl\n",
    "europarl_dev_pairs, europarl_remaining_pairs = train_test_split(europarl_remaining_pairs, train_size=3750, random_state=42)\n",
    "\n",
    "# Séparer les paires en listes individuelles\n",
    "europarl_dev_en, europarl_dev_fr = zip(*europarl_dev_pairs)\n"
   ]
  },
  {
   "cell_type": "markdown",
   "metadata": {},
   "source": [
    "### Extraire les corpus de test (TEST)\n",
    "\n",
    "Sélectionner aléatoirement 500 phrases pour le test à partir des phrases restantes d'Europarl et d'Emea :\n",
    "\n",
    "1. Europarl"
   ]
  },
  {
   "cell_type": "code",
   "execution_count": 31,
   "metadata": {},
   "outputs": [],
   "source": [
    "# Extraire 500 paires pour le test à partir des phrases restantes d'Europarl\n",
    "europarl_test_pairs, _ = train_test_split(europarl_remaining_pairs, train_size=500, random_state=42)\n",
    "\n",
    "# Séparer les paires en listes individuelles\n",
    "europarl_test_en, europarl_test_fr = zip(*europarl_test_pairs)\n"
   ]
  },
  {
   "cell_type": "markdown",
   "metadata": {},
   "source": [
    "2. Emea"
   ]
  },
  {
   "cell_type": "code",
   "execution_count": 32,
   "metadata": {},
   "outputs": [],
   "source": [
    "# Extraire 500 paires pour le test à partir des phrases restantes d'Emea\n",
    "emea_test_pairs, _ = train_test_split(emea_remaining_pairs, train_size=500, random_state=42)\n",
    "\n",
    "# Séparer les paires en listes individuelles\n",
    "emea_test_en, emea_test_fr = zip(*emea_test_pairs)\n"
   ]
  },
  {
   "cell_type": "markdown",
   "metadata": {},
   "source": [
    "### Sauvegarder les corpus extraits\n",
    "Écrire les phrases extraites dans des fichiers séparés :"
   ]
  },
  {
   "cell_type": "code",
   "execution_count": 33,
   "metadata": {},
   "outputs": [],
   "source": [
    "def save_corpus(sentences, path):\n",
    "    with open(path, 'w') as file:\n",
    "        for sentence in sentences:\n",
    "            file.write(sentence)\n",
    "\n",
    "europarl_folder = \"../data/Europarl_en_fr/\"\n",
    "emea_folder = \"../data/EMEA_en_fr/\"\n",
    "\n",
    "# Sauvegarder Europarl train set\n",
    "save_corpus(europarl_train_en, europarl_folder + 'Europarl_train_100k.en')\n",
    "save_corpus(europarl_train_fr, europarl_folder + 'Europarl_train_100k.fr')\n",
    "\n",
    "# Sauvegarder Emea train set\n",
    "save_corpus(emea_train_en, emea_folder + 'Emea_train_10k.en')\n",
    "save_corpus(emea_train_fr, emea_folder + 'Emea_train_10k.fr')\n",
    "\n",
    "# Sauvegarder Europarl dev set\n",
    "save_corpus(europarl_dev_en, europarl_folder + 'Europarl_dev_3750.en')\n",
    "save_corpus(europarl_dev_fr, europarl_folder + 'Europarl_dev_3750.fr')\n",
    "\n",
    "\n",
    "# Sauvegarder Europarl test set\n",
    "save_corpus(europarl_test_en, europarl_folder + 'Europarl_test_500.en')\n",
    "save_corpus(europarl_test_fr, europarl_folder + 'Europarl_test_500.fr')\n",
    "\n",
    "# Sauvegarder Emea test set\n",
    "save_corpus(emea_test_en, emea_folder + 'Emea_test_500.en')\n",
    "save_corpus(emea_test_fr, emea_folder + 'Emea_test_500.fr')\n"
   ]
  }
 ],
 "metadata": {
  "kernelspec": {
   "display_name": "taa",
   "language": "python",
   "name": "python3"
  },
  "language_info": {
   "codemirror_mode": {
    "name": "ipython",
    "version": 3
   },
   "file_extension": ".py",
   "mimetype": "text/x-python",
   "name": "python",
   "nbconvert_exporter": "python",
   "pygments_lexer": "ipython3",
   "version": "3.8.19"
  }
 },
 "nbformat": 4,
 "nbformat_minor": 2
}
