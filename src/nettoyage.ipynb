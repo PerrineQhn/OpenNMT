{
 "cells": [
  {
   "cell_type": "markdown",
   "metadata": {},
   "source": [
    "### Nettoyage des corpus train, test et dev\n",
    "\n",
    "1. Tokenisation des corpus Anglais-Français Europarl et Emea (Train, Test et Dev)"
   ]
  },
  {
   "cell_type": "markdown",
   "metadata": {},
   "source": [
    "Europarl :\n",
    "- Train : 100 000 phrases\n",
    "- Test : 500 phrases\n",
    "- Dev : 3 750 phrases"
   ]
  },
  {
   "cell_type": "code",
   "execution_count": 3,
   "metadata": {
    "vscode": {
     "languageId": "shellscript"
    }
   },
   "outputs": [
    {
     "name": "stdout",
     "output_type": "stream",
     "text": [
      "Tokenizer Version 1.1\n",
      "Language: en\n",
      "Number of threads: 1\n",
      "Tokenizer Version 1.1\n",
      "Language: fr\n",
      "Number of threads: 1\n",
      "Tokenizer Version 1.1\n",
      "Language: en\n",
      "Number of threads: 1\n",
      "Tokenizer Version 1.1\n",
      "Language: fr\n",
      "Number of threads: 1\n",
      "Tokenizer Version 1.1\n",
      "Language: en\n",
      "Number of threads: 1\n",
      "Tokenizer Version 1.1\n",
      "Language: fr\n",
      "Number of threads: 1\n"
     ]
    }
   ],
   "source": [
    "# Tokenize English training corpus\n",
    "!../../../mosesdecoder/scripts/tokenizer/tokenizer.perl -l en < ../data/Europarl_en_fr/Europarl_train_100k.en > ../data/Europarl_en_fr/Europarl_train_100k.tok.en\n",
    "\n",
    "# Tokenize French training corpus\n",
    "!../../../mosesdecoder/scripts/tokenizer/tokenizer.perl -l fr < ../data/Europarl_en_fr/Europarl_train_100k.fr > ../data/Europarl_en_fr/Europarl_train_100k.tok.fr\n",
    "\n",
    "# Tokenize English validation corpus\n",
    "!../../../mosesdecoder/scripts/tokenizer/tokenizer.perl -l en < ../data/Europarl_en_fr/Europarl_dev_3750.en > ../data/Europarl_en_fr/Europarl_dev_3750.tok.en\n",
    "\n",
    "# Tokenize French validation corpus\n",
    "!../../../mosesdecoder/scripts/tokenizer/tokenizer.perl -l fr < ../data/Europarl_en_fr/Europarl_dev_3750.fr > ../data/Europarl_en_fr/Europarl_dev_3750.tok.fr\n",
    "\n",
    "# Tokenize English test corpus\n",
    "!../../../mosesdecoder/scripts/tokenizer/tokenizer.perl -l en < ../data/Europarl_en_fr/Europarl_test_500.en > ../data/Europarl_en_fr/Europarl_test_500.tok.en\n",
    "\n",
    "# Tokenize French test corpus\n",
    "!../../../mosesdecoder/scripts/tokenizer/tokenizer.perl -l fr < ../data/Europarl_en_fr/Europarl_test_500.fr > ../data/Europarl_en_fr/Europarl_test_500.tok.fr"
   ]
  },
  {
   "cell_type": "markdown",
   "metadata": {},
   "source": [
    "Emea :\n",
    "- Train : 10 000 phrases\n",
    "- Test : 500 phrases\n",
    "- Dev : 3 750 phrases\n"
   ]
  },
  {
   "cell_type": "code",
   "execution_count": 4,
   "metadata": {
    "vscode": {
     "languageId": "shellscript"
    }
   },
   "outputs": [
    {
     "name": "stdout",
     "output_type": "stream",
     "text": [
      "Tokenizer Version 1.1\n",
      "Language: en\n",
      "Number of threads: 1\n",
      "Tokenizer Version 1.1\n",
      "Language: fr\n",
      "Number of threads: 1\n",
      "Tokenizer Version 1.1\n",
      "Language: en\n",
      "Number of threads: 1\n",
      "Tokenizer Version 1.1\n",
      "Language: fr\n",
      "Number of threads: 1\n",
      "Tokenizer Version 1.1\n",
      "Language: en\n",
      "Number of threads: 1\n",
      "Tokenizer Version 1.1\n",
      "Language: fr\n",
      "Number of threads: 1\n"
     ]
    }
   ],
   "source": [
    "# Tokenize English training corpus\n",
    "!../../../mosesdecoder/scripts/tokenizer/tokenizer.perl -l en < ../data/Emea_en_fr/Emea_train_10k.en > ../data/Emea_en_fr/Emea_train_10k.tok.en\n",
    "\n",
    "# Tokenize French training corpus\n",
    "!../../../mosesdecoder/scripts/tokenizer/tokenizer.perl -l fr < ../data/Emea_en_fr/Emea_train_10k.fr > ../data/Emea_en_fr/Emea_train_10k.tok.fr\n",
    "\n",
    "# Tokenize English validation corpus\n",
    "!../../../mosesdecoder/scripts/tokenizer/tokenizer.perl -l en < ../data/Emea_en_fr/Emea_dev_3750.en > ../data/Emea_en_fr/Emea_dev_3750.tok.en\n",
    "\n",
    "# Tokenize French validation corpus\n",
    "!../../../mosesdecoder/scripts/tokenizer/tokenizer.perl -l fr < ../data/Emea_en_fr/Emea_dev_3750.fr > ../data/Emea_en_fr/Emea_dev_3750.tok.fr\n",
    "\n",
    "# Tokenize English test corpus\n",
    "!../../../mosesdecoder/scripts/tokenizer/tokenizer.perl -l en < ../data/Emea_en_fr/Emea_test_500.en > ../data/Emea_en_fr/Emea_test_500.tok.en\n",
    "\n",
    "# Tokenize French test corpus\n",
    "!../../../mosesdecoder/scripts/tokenizer/tokenizer.perl -l fr < ../data/Emea_en_fr/Emea_test_500.fr > ../data/Emea_en_fr/Emea_test_500.tok.fr"
   ]
  },
  {
   "cell_type": "markdown",
   "metadata": {},
   "source": [
    "### 2. Changement des majuscules en minuscules\n"
   ]
  },
  {
   "cell_type": "markdown",
   "metadata": {},
   "source": [
    "A. Apprentissage du modèle de transformation"
   ]
  },
  {
   "cell_type": "code",
   "execution_count": 5,
   "metadata": {
    "vscode": {
     "languageId": "shellscript"
    }
   },
   "outputs": [],
   "source": [
    "!../../../mosesdecoder/scripts/recaser/train-truecaser.perl --model ../data/Europarl_en_fr/truecase-model.en --corpus ../data/Europarl_en_fr/Europarl_train_100k.tok.en\n",
    "\n",
    "!../../../mosesdecoder/scripts/recaser/train-truecaser.perl --model ../data/Europarl_en_fr/truecase-model.fr --corpus ../data/Europarl_en_fr/Europarl_train_100k.tok.fr\n",
    "\n",
    "\n",
    "!../../../mosesdecoder/scripts/recaser/train-truecaser.perl --model ../data/Emea_en_fr/truecase-model.en --corpus ../data/Emea_en_fr/Emea_train_10k.tok.en\n",
    "\n",
    "!../../../mosesdecoder/scripts/recaser/train-truecaser.perl --model ../data/Emea_en_fr/truecase-model.fr --corpus ../data/Emea_en_fr/Emea_train_10k.tok.fr"
   ]
  },
  {
   "cell_type": "markdown",
   "metadata": {},
   "source": [
    "\n",
    "  B. Transformation des majuscules en minuscules"
   ]
  },
  {
   "cell_type": "code",
   "execution_count": 6,
   "metadata": {
    "vscode": {
     "languageId": "shellscript"
    }
   },
   "outputs": [],
   "source": [
    "!../../../mosesdecoder/scripts/recaser/truecase.perl --model ../data/Europarl_en_fr/truecase-model.en < ../data/Europarl_en_fr/Europarl_train_100k.tok.en > ../data/Europarl_en_fr/Europarl_train_100k.tok.true.en\n",
    "\n",
    "!../../../mosesdecoder/scripts/recaser/truecase.perl --model ../data/Europarl_en_fr/truecase-model.fr < ../data/Europarl_en_fr/Europarl_train_100k.tok.fr > ../data/Europarl_en_fr/Europarl_train_100k.tok.true.fr\n",
    "\n",
    "!../../../mosesdecoder/scripts/recaser/truecase.perl --model ../data/Europarl_en_fr/truecase-model.en < ../data/Europarl_en_fr/Europarl_dev_3750.tok.en > ../data/Europarl_en_fr/Europarl_dev_3750.tok.true.en\n",
    "\n",
    "!../../../mosesdecoder/scripts/recaser/truecase.perl --model ../data/Europarl_en_fr/truecase-model.fr < ../data/Europarl_en_fr/Europarl_dev_3750.tok.fr > ../data/Europarl_en_fr/Europarl_dev_3750.tok.true.fr\n",
    "\n",
    "!../../../mosesdecoder/scripts/recaser/truecase.perl --model ../data/Europarl_en_fr/truecase-model.en < ../data/Europarl_en_fr/Europarl_test_500.tok.en > ../data/Europarl_en_fr/Europarl_test_500.tok.true.en\n",
    "\n",
    "!../../../mosesdecoder/scripts/recaser/truecase.perl --model ../data/Europarl_en_fr/truecase-model.fr < ../data/Europarl_en_fr/Europarl_test_500.tok.fr > ../data/Europarl_en_fr/Europarl_test_500.tok.true.fr"
   ]
  },
  {
   "cell_type": "code",
   "execution_count": 7,
   "metadata": {
    "vscode": {
     "languageId": "shellscript"
    }
   },
   "outputs": [],
   "source": [
    "!../../../mosesdecoder/scripts/recaser/truecase.perl --model ../data/Emea_en_fr/truecase-model.en < ../data/Emea_en_fr/Emea_train_10k.tok.en > ../data/Emea_en_fr/Emea_train_10k.tok.true.en\n",
    "\n",
    "!../../../mosesdecoder/scripts/recaser/truecase.perl --model ../data/Emea_en_fr/truecase-model.fr < ../data/Emea_en_fr/Emea_train_10k.tok.fr > ../data/Emea_en_fr/Emea_train_10k.tok.true.fr\n",
    "\n",
    "!../../../mosesdecoder/scripts/recaser/truecase.perl --model ../data/Emea_en_fr/truecase-model.en < ../data/Emea_en_fr/Emea_dev_3750.tok.en > ../data/Emea_en_fr/Emea_dev_3750.tok.true.en\n",
    "\n",
    "!../../../mosesdecoder/scripts/recaser/truecase.perl --model ../data/Emea_en_fr/truecase-model.fr < ../data/Emea_en_fr/Emea_dev_3750.tok.fr > ../data/Emea_en_fr/Emea_dev_3750.tok.true.fr\n",
    "\n",
    "!../../../mosesdecoder/scripts/recaser/truecase.perl --model ../data/Emea_en_fr/truecase-model.en < ../data/Emea_en_fr/Emea_test_500.tok.en > ../data/Emea_en_fr/Emea_test_500.tok.true.en\n",
    "\n",
    "!../../../mosesdecoder/scripts/recaser/truecase.perl --model ../data/Emea_en_fr/truecase-model.fr < ../data/Emea_en_fr/Emea_test_500.tok.fr > ../data/Emea_en_fr/Emea_test_500.tok.true.fr"
   ]
  },
  {
   "cell_type": "markdown",
   "metadata": {},
   "source": [
    "### 3. Nettoyage en limitant la longueur des phrases à 80 caractères"
   ]
  },
  {
   "cell_type": "code",
   "execution_count": 8,
   "metadata": {
    "vscode": {
     "languageId": "shellscript"
    }
   },
   "outputs": [
    {
     "name": "stdout",
     "output_type": "stream",
     "text": [
      "clean-corpus.perl: processing ../data/Europarl_en_fr/Europarl_train_100k.tok.true.fr & .en to ../data/Europarl_en_fr/Europarl_train_100k.tok.true.clean, cutoff 1-80, ratio 9\n",
      "..........(100000)\n",
      "Input sentences: 100000  Output sentences:  98014\n",
      "clean-corpus.perl: processing ../data/Europarl_en_fr/Europarl_dev_3750.tok.true.fr & .en to ../data/Europarl_en_fr/Europarl_dev_3750.tok.true.clean, cutoff 1-80, ratio 9\n",
      "\n",
      "Input sentences: 3750  Output sentences:  3673\n",
      "clean-corpus.perl: processing ../data/Europarl_en_fr/Europarl_test_500.tok.true.fr & .en to ../data/Europarl_en_fr/Europarl_test_500.tok.true.clean, cutoff 1-80, ratio 9\n",
      "\n",
      "Input sentences: 500  Output sentences:  489\n"
     ]
    }
   ],
   "source": [
    "!../../../mosesdecoder/scripts/training/clean-corpus-n.perl ../data/Europarl_en_fr/Europarl_train_100k.tok.true fr en ../data/Europarl_en_fr/Europarl_train_100k.tok.true.clean 1 80\n",
    "\n",
    "!../../../mosesdecoder/scripts/training/clean-corpus-n.perl ../data/Europarl_en_fr/Europarl_dev_3750.tok.true fr en ../data/Europarl_en_fr/Europarl_dev_3750.tok.true.clean 1 80\n",
    "\n",
    "!../../../mosesdecoder/scripts/training/clean-corpus-n.perl ../data/Europarl_en_fr/Europarl_test_500.tok.true fr en ../data/Europarl_en_fr/Europarl_test_500.tok.true.clean 1 80"
   ]
  },
  {
   "cell_type": "code",
   "execution_count": 9,
   "metadata": {
    "vscode": {
     "languageId": "shellscript"
    }
   },
   "outputs": [
    {
     "name": "stdout",
     "output_type": "stream",
     "text": [
      "clean-corpus.perl: processing ../data/Emea_en_fr/Emea_train_10k.tok.true.fr & .en to ../data/Emea_en_fr/Emea_train_10k.tok.true.clean, cutoff 1-80, ratio 9\n",
      ".\n",
      "Input sentences: 10000  Output sentences:  9877\n",
      "clean-corpus.perl: processing ../data/Emea_en_fr/Emea_dev_3750.tok.true.fr & .en to ../data/Emea_en_fr/Emea_dev_3750.tok.true.clean, cutoff 1-80, ratio 9\n",
      "\n",
      "Input sentences: 3750  Output sentences:  3701\n",
      "clean-corpus.perl: processing ../data/Emea_en_fr/Emea_test_500.tok.true.fr & .en to ../data/Emea_en_fr/Emea_test_500.tok.true.clean, cutoff 1-80, ratio 9\n",
      "\n",
      "Input sentences: 500  Output sentences:  491\n"
     ]
    }
   ],
   "source": [
    "!../../../mosesdecoder/scripts/training/clean-corpus-n.perl ../data/Emea_en_fr/Emea_train_10k.tok.true fr en ../data/Emea_en_fr/Emea_train_10k.tok.true.clean 1 80\n",
    "\n",
    "!../../../mosesdecoder/scripts/training/clean-corpus-n.perl ../data/Emea_en_fr/Emea_dev_3750.tok.true fr en ../data/Emea_en_fr/Emea_dev_3750.tok.true.clean 1 80\n",
    "\n",
    "!../../../mosesdecoder/scripts/training/clean-corpus-n.perl ../data/Emea_en_fr/Emea_test_500.tok.true fr en ../data/Emea_en_fr/Emea_test_500.tok.true.clean 1 80\n"
   ]
  }
 ],
 "metadata": {
  "kernelspec": {
   "display_name": "taa",
   "language": "python",
   "name": "python3"
  },
  "language_info": {
   "codemirror_mode": {
    "name": "ipython",
    "version": 3
   },
   "file_extension": ".py",
   "mimetype": "text/x-python",
   "name": "python",
   "nbconvert_exporter": "python",
   "pygments_lexer": "ipython3",
   "version": "3.8.19"
  }
 },
 "nbformat": 4,
 "nbformat_minor": 2
}
