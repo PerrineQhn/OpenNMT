{
 "cells": [
  {
   "cell_type": "markdown",
   "metadata": {},
   "source": [
    "### Nettoyage des corpus train, test et dev\n",
    "\n",
    "Prérequis:\n",
    "- Avoir le script `tokenizer.perl` dans le répertoire `scripts/tokenizer/` de Moses\n",
    "- Avoir le script `train-truecaser.perl` dans le répertoire `scripts/recaser/` de Moses\n",
    "- Avoir le script `truecase.perl` dans le répertoire `scripts/recaser/` de Moses\n",
    "- Avoir le script `clean-corpus-n.perl` dans le répertoire `scripts/training/` de Moses"
   ]
  },
  {
   "cell_type": "markdown",
   "metadata": {},
   "source": [
    "1. Tokenisation des corpus Anglais-Français Europarl et Emea (Train, Test et Dev)"
   ]
  },
  {
   "cell_type": "markdown",
   "metadata": {},
   "source": [
    "Europarl :\n",
    "- Train : 100 000 phrases\n",
    "- Test : 500 phrases\n",
    "- Dev : 3 750 phrases"
   ]
  },
  {
   "cell_type": "code",
   "execution_count": 35,
   "metadata": {
    "vscode": {
     "languageId": "shellscript"
    }
   },
   "outputs": [],
   "source": [
    "tokenizer = \"../../../mosesdecoder/scripts/tokenizer/tokenizer.perl\""
   ]
  },
  {
   "cell_type": "code",
   "execution_count": 36,
   "metadata": {
    "vscode": {
     "languageId": "shellscript"
    }
   },
   "outputs": [
    {
     "name": "stdout",
     "output_type": "stream",
     "text": [
      "Tokenizer Version 1.1\n",
      "Language: en\n",
      "Number of threads: 1\n",
      "Tokenizer Version 1.1\n",
      "Language: fr\n",
      "Number of threads: 1\n",
      "Tokenizer Version 1.1\n",
      "Language: en\n",
      "Number of threads: 1\n",
      "Tokenizer Version 1.1\n",
      "Language: fr\n",
      "Number of threads: 1\n",
      "Tokenizer Version 1.1\n",
      "Language: en\n",
      "Number of threads: 1\n",
      "Tokenizer Version 1.1\n",
      "Language: fr\n",
      "Number of threads: 1\n"
     ]
    }
   ],
   "source": [
    "# Tokenize English training corpus\n",
    "!{tokenizer} -l en < ../data/raw/Europarl_en_fr/Europarl_train_100k.en > ../data/clean/Europarl_en_fr_clean/Europarl_train_100k.tok.en\n",
    "\n",
    "# Tokenize French training corpus\n",
    "!{tokenizer} -l fr < ../data/raw/Europarl_en_fr/Europarl_train_100k.fr > ../data/clean/Europarl_en_fr_clean/Europarl_train_100k.tok.fr\n",
    "\n",
    "# Tokenize English validation corpus\n",
    "!{tokenizer} -l en <../data/raw/Europarl_en_fr/Europarl_dev_3750.en > ../data/clean/Europarl_en_fr_clean/Europarl_dev_3750.tok.en\n",
    "\n",
    "# Tokenize French validation corpus\n",
    "!{tokenizer} -l fr < ../data/raw/Europarl_en_fr/Europarl_dev_3750.fr > ../data/clean/Europarl_en_fr_clean/Europarl_dev_3750.tok.fr\n",
    "\n",
    "# Tokenize English test corpus\n",
    "!{tokenizer} -l en < ../data/raw/Europarl_en_fr/Europarl_test_500.en > ../data/clean/Europarl_en_fr_clean/Europarl_test_500.tok.en\n",
    "\n",
    "# Tokenize French test corpus\n",
    "!{tokenizer} -l fr < ../data/raw/Europarl_en_fr/Europarl_test_500.fr > ../data/clean/Europarl_en_fr_clean/Europarl_test_500.tok.fr"
   ]
  },
  {
   "cell_type": "markdown",
   "metadata": {},
   "source": [
    "Emea :\n",
    "- Train : 10 000 phrases\n",
    "- Test : 500 phrases\n",
    "- Dev : 3 750 phrases\n"
   ]
  },
  {
   "cell_type": "code",
   "execution_count": 37,
   "metadata": {
    "vscode": {
     "languageId": "shellscript"
    }
   },
   "outputs": [
    {
     "name": "stdout",
     "output_type": "stream",
     "text": [
      "Tokenizer Version 1.1\n",
      "Language: en\n",
      "Number of threads: 1\n",
      "Tokenizer Version 1.1\n",
      "Language: fr\n",
      "Number of threads: 1\n",
      "Tokenizer Version 1.1\n",
      "Language: en\n",
      "Number of threads: 1\n",
      "Tokenizer Version 1.1\n",
      "Language: fr\n",
      "Number of threads: 1\n"
     ]
    }
   ],
   "source": [
    "# Tokenize English training corpus\n",
    "!{tokenizer} -l en < ../data/raw/Emea_en_fr/Emea_train_10k.en > ../data/clean/Emea_en_fr_clean/Emea_train_10k.tok.en\n",
    "\n",
    "# Tokenize French training corpus\n",
    "!{tokenizer} -l fr < ../data/raw/Emea_en_fr/Emea_train_10k.fr > ../data/clean/Emea_en_fr_clean/Emea_train_10k.tok.fr\n",
    "\n",
    "# Tokenize English test corpus\n",
    "!{tokenizer} -l en < ../data/raw/Emea_en_fr/Emea_test_500.en > ../data/clean/Emea_en_fr_clean/Emea_test_500.tok.en\n",
    "\n",
    "# Tokenize French test corpus\n",
    "!{tokenizer} -l fr < ../data/raw/Emea_en_fr/Emea_test_500.fr > ../data/clean/Emea_en_fr_clean/Emea_test_500.tok.fr"
   ]
  },
  {
   "cell_type": "markdown",
   "metadata": {},
   "source": [
    "### 2. Changement des majuscules en minuscules\n"
   ]
  },
  {
   "cell_type": "code",
   "execution_count": 38,
   "metadata": {
    "vscode": {
     "languageId": "shellscript"
    }
   },
   "outputs": [],
   "source": [
    "train_truecaser = \"../../../mosesdecoder/scripts/recaser/train-truecaser.perl\"\n",
    "truecaser = \"../../../mosesdecoder/scripts/recaser/truecase.perl\""
   ]
  },
  {
   "cell_type": "markdown",
   "metadata": {},
   "source": [
    "A. Apprentissage du modèle de transformation"
   ]
  },
  {
   "cell_type": "code",
   "execution_count": 41,
   "metadata": {
    "vscode": {
     "languageId": "shellscript"
    }
   },
   "outputs": [],
   "source": [
    "!{train_truecaser} --model ../data/raw/Europarl_en_fr/truecase-model.en --corpus ../data/clean/Europarl_en_fr_clean/Europarl_train_100k.tok.en\n",
    "\n",
    "!{train_truecaser} --model ../data/raw/Europarl_en_fr/truecase-model.fr --corpus ../data/clean/Europarl_en_fr_clean/Europarl_train_100k.tok.fr\n",
    "\n",
    "\n",
    "!{train_truecaser} --model ../data/raw/Emea_en_fr/truecase-model.en --corpus ../data/clean/Emea_en_fr_clean/Emea_train_10k.tok.en\n",
    "\n",
    "!{train_truecaser} --model ../data/raw/Emea_en_fr/truecase-model.fr --corpus ../data/clean/Emea_en_fr_clean/Emea_train_10k.tok.fr"
   ]
  },
  {
   "cell_type": "markdown",
   "metadata": {},
   "source": [
    "\n",
    "  B. Transformation des majuscules en minuscules"
   ]
  },
  {
   "cell_type": "code",
   "execution_count": 42,
   "metadata": {
    "vscode": {
     "languageId": "shellscript"
    }
   },
   "outputs": [],
   "source": [
    "!{truecaser} --model ../data/raw/Europarl_en_fr/truecase-model.en < ../data/clean/Europarl_en_fr_clean/Europarl_train_100k.tok.en > ../data/clean/Europarl_en_fr_clean/Europarl_train_100k.tok.true.en\n",
    "\n",
    "!{truecaser} --model ../data/raw/Europarl_en_fr/truecase-model.fr < ../data/clean/Europarl_en_fr_clean/Europarl_train_100k.tok.fr > ../data/clean/Europarl_en_fr_clean/Europarl_train_100k.tok.true.fr\n",
    "\n",
    "!{truecaser} --model ../data/raw/Europarl_en_fr/truecase-model.en < ../data/clean/Europarl_en_fr_clean/Europarl_dev_3750.tok.en > ../data/clean/Europarl_en_fr_clean/Europarl_dev_3750.tok.true.en\n",
    "\n",
    "!{truecaser} --model ../data/raw/Europarl_en_fr/truecase-model.fr < ../data/clean/Europarl_en_fr_clean/Europarl_dev_3750.tok.fr > ../data/clean/Europarl_en_fr_clean/Europarl_dev_3750.tok.true.fr\n",
    "\n",
    "!{truecaser} --model ../data/raw/Europarl_en_fr/truecase-model.en < ../data/clean/Europarl_en_fr_clean/Europarl_test_500.tok.en > ../data/clean/Europarl_en_fr_clean/Europarl_test_500.tok.true.en\n",
    "\n",
    "!{truecaser} --model ../data/raw/Europarl_en_fr/truecase-model.fr < ../data/clean/Europarl_en_fr_clean/Europarl_test_500.tok.fr > ../data/clean/Europarl_en_fr_clean/Europarl_test_500.tok.true.fr"
   ]
  },
  {
   "cell_type": "code",
   "execution_count": 43,
   "metadata": {
    "vscode": {
     "languageId": "shellscript"
    }
   },
   "outputs": [],
   "source": [
    "!{truecaser} --model ../data/raw/Emea_en_fr/truecase-model.en < ../data/clean/Emea_en_fr_clean/Emea_train_10k.tok.en > ../data/clean/Emea_en_fr_clean/Emea_train_10k.tok.true.en\n",
    "\n",
    "!{truecaser} --model ../data/raw/Emea_en_fr/truecase-model.fr < ../data/clean/Emea_en_fr_clean/Emea_train_10k.tok.fr > ../data/clean/Emea_en_fr_clean/Emea_train_10k.tok.true.fr\n",
    "\n",
    "!{truecaser} --model ../data/raw/Emea_en_fr/truecase-model.en < ../data/clean/Emea_en_fr_clean/Emea_test_500.tok.en > ../data/clean/Emea_en_fr_clean/Emea_test_500.tok.true.en\n",
    "\n",
    "!{truecaser} --model ../data/raw/Emea_en_fr/truecase-model.fr < ../data/clean/Emea_en_fr_clean/Emea_test_500.tok.fr > ../data/clean/Emea_en_fr_clean/Emea_test_500.tok.true.fr"
   ]
  },
  {
   "cell_type": "markdown",
   "metadata": {},
   "source": [
    "### 3. Nettoyage en limitant la longueur des phrases à 80 caractères"
   ]
  },
  {
   "cell_type": "code",
   "execution_count": 44,
   "metadata": {
    "vscode": {
     "languageId": "shellscript"
    }
   },
   "outputs": [],
   "source": [
    "cleaner = \"../../../mosesdecoder/scripts/training/clean-corpus-n.perl\""
   ]
  },
  {
   "cell_type": "code",
   "execution_count": 45,
   "metadata": {
    "vscode": {
     "languageId": "shellscript"
    }
   },
   "outputs": [
    {
     "name": "stdout",
     "output_type": "stream",
     "text": [
      "clean-corpus.perl: processing ../data/clean/Europarl_en_fr_clean/Europarl_train_100k.tok.true.fr & .en to ../data/clean/Europarl_en_fr_clean/Europarl_train_100k.tok.true.clean, cutoff 1-80, ratio 9\n",
      "..........(100000)\n",
      "Input sentences: 100000  Output sentences:  98014\n",
      "clean-corpus.perl: processing ../data/clean/Europarl_en_fr_clean/Europarl_dev_3750.tok.true.fr & .en to ../data/clean/Europarl_en_fr_clean/Europarl_dev_3750.tok.true.clean, cutoff 1-80, ratio 9\n",
      "\n",
      "Input sentences: 3750  Output sentences:  3673\n",
      "clean-corpus.perl: processing ../data/clean/Europarl_en_fr_clean/Europarl_test_500.tok.true.fr & .en to ../data/clean/Europarl_en_fr_clean/Europarl_test_500.tok.true.clean, cutoff 1-80, ratio 9\n",
      "\n",
      "Input sentences: 500  Output sentences:  489\n"
     ]
    }
   ],
   "source": [
    "!{cleaner}  ../data/clean/Europarl_en_fr_clean/Europarl_train_100k.tok.true fr en ../data/clean/Europarl_en_fr_clean/Europarl_train_100k.tok.true.clean 1 80\n",
    "\n",
    "!{cleaner}  ../data/clean/Europarl_en_fr_clean/Europarl_dev_3750.tok.true fr en ../data/clean/Europarl_en_fr_clean/Europarl_dev_3750.tok.true.clean 1 80\n",
    "\n",
    "!{cleaner}  ../data/clean/Europarl_en_fr_clean/Europarl_test_500.tok.true fr en ../data/clean/Europarl_en_fr_clean/Europarl_test_500.tok.true.clean 1 80"
   ]
  },
  {
   "cell_type": "code",
   "execution_count": 46,
   "metadata": {
    "vscode": {
     "languageId": "shellscript"
    }
   },
   "outputs": [
    {
     "name": "stdout",
     "output_type": "stream",
     "text": [
      "clean-corpus.perl: processing ../data/clean/Emea_en_fr_clean/Emea_train_10k.tok.true.fr & .en to ../data/clean/Emea_en_fr_clean/Emea_train_10k.tok.true.clean, cutoff 1-80, ratio 9\n",
      ".\n",
      "Input sentences: 10000  Output sentences:  9877\n",
      "clean-corpus.perl: processing ../data/clean/Emea_en_fr_clean/Emea_test_500.tok.true.fr & .en to ../data/clean/Emea_en_fr_clean/Emea_test_500.tok.true.clean, cutoff 1-80, ratio 9\n",
      "\n",
      "Input sentences: 500  Output sentences:  491\n"
     ]
    }
   ],
   "source": [
    "!{cleaner}  ../data/clean/Emea_en_fr_clean/Emea_train_10k.tok.true fr en ../data/clean/Emea_en_fr_clean/Emea_train_10k.tok.true.clean 1 80\n",
    "\n",
    "!{cleaner}  ../data/clean/Emea_en_fr_clean/Emea_test_500.tok.true fr en ../data/clean/Emea_en_fr_clean/Emea_test_500.tok.true.clean 1 80\n"
   ]
  }
 ],
 "metadata": {
  "kernelspec": {
   "display_name": "taa",
   "language": "python",
   "name": "python3"
  },
  "language_info": {
   "codemirror_mode": {
    "name": "ipython",
    "version": 3
   },
   "file_extension": ".py",
   "mimetype": "text/x-python",
   "name": "python",
   "nbconvert_exporter": "python",
   "pygments_lexer": "ipython3",
   "version": "3.8.19"
  }
 },
 "nbformat": 4,
 "nbformat_minor": 2
}
